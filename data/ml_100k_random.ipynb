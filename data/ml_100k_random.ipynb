{
 "cells": [
  {
   "cell_type": "code",
   "execution_count": 7,
   "metadata": {},
   "outputs": [],
   "source": [
    "from collections import defaultdict\n",
    "from datetime import datetime"
   ]
  },
  {
   "cell_type": "code",
   "execution_count": 8,
   "metadata": {},
   "outputs": [],
   "source": [
    "usermap = dict()\n",
    "usernum = 0\n",
    "itemmap = dict()\n",
    "itemnum = 0\n",
    "\n",
    "User = dict()\n",
    "Item = dict()\n",
    "\n",
    "with open('ml-100k/u.data') as f:\n",
    "    for l in f.readlines():\n",
    "        if len(l) > 0:\n",
    "            # l = l.strip('\\n').split('::')\n",
    "            # l = l.strip('\\n').split(',')\n",
    "            l = l.strip('\\n').split('\\t')\n",
    "            rev = int(l[0])\n",
    "            asin = int(l[1])\n",
    "            rating = float(l[2])\n",
    "            \n",
    "            if rating > 0:\n",
    "            \n",
    "                if rev in usermap: userid = usermap[rev]\n",
    "                else:\n",
    "                    userid = usernum\n",
    "                    usernum += 1\n",
    "                    usermap[rev] = userid\n",
    "                    User[userid] = []\n",
    "\n",
    "                if asin in itemmap: itemid = itemmap[asin]\n",
    "                else:\n",
    "                    itemid = itemnum\n",
    "                    itemnum += 1\n",
    "                    itemmap[asin] = itemid\n",
    "                    Item[itemid] = []\n",
    "\n",
    "                User[userid].append([itemid])\n",
    "                Item[itemid].append([userid])"
   ]
  },
  {
   "cell_type": "code",
   "execution_count": 9,
   "metadata": {},
   "outputs": [
    {
     "data": {
      "text/plain": [
       "943"
      ]
     },
     "execution_count": 9,
     "metadata": {},
     "output_type": "execute_result"
    }
   ],
   "source": [
    "usernum"
   ]
  },
  {
   "cell_type": "code",
   "execution_count": 10,
   "metadata": {},
   "outputs": [
    {
     "data": {
      "text/plain": [
       "1682"
      ]
     },
     "execution_count": 10,
     "metadata": {},
     "output_type": "execute_result"
    }
   ],
   "source": [
    "itemnum"
   ]
  },
  {
   "cell_type": "code",
   "execution_count": 11,
   "metadata": {},
   "outputs": [],
   "source": [
    "num_int = 0\n",
    "for k,v in User.items():\n",
    "    num_int += len(v)"
   ]
  },
  {
   "cell_type": "code",
   "execution_count": 12,
   "metadata": {},
   "outputs": [
    {
     "data": {
      "text/plain": [
       "100000"
      ]
     },
     "execution_count": 12,
     "metadata": {},
     "output_type": "execute_result"
    }
   ],
   "source": [
    "num_int"
   ]
  },
  {
   "cell_type": "code",
   "execution_count": 13,
   "metadata": {},
   "outputs": [
    {
     "data": {
      "text/plain": [
       "6.304669364224531"
      ]
     },
     "execution_count": 13,
     "metadata": {},
     "output_type": "execute_result"
    }
   ],
   "source": [
    "num_int / (usernum * itemnum) * 100"
   ]
  },
  {
   "cell_type": "code",
   "execution_count": 14,
   "metadata": {},
   "outputs": [],
   "source": [
    "import random\n",
    "\n",
    "User_train = defaultdict(list)\n",
    "User_test = defaultdict(list)\n",
    "\n",
    "for k,v in User.items():\n",
    "    for i in v:\n",
    "        t = random.random()\n",
    "        if t < 0.8:\n",
    "            User_train[k].append(i)\n",
    "        else:\n",
    "            User_test[k].append(i)"
   ]
  },
  {
   "cell_type": "code",
   "execution_count": 15,
   "metadata": {},
   "outputs": [],
   "source": [
    "path = './ml100k/train.txt'\n",
    "f = open(path, 'w')\n",
    "\n",
    "for u, i in User_train.items():\n",
    "    f.write(str(u))\n",
    "    for n in i:\n",
    "        f.write(\" \" + str(n[0]))\n",
    "    f.write('\\n')\n",
    "\n",
    "f.close()"
   ]
  },
  {
   "cell_type": "code",
   "execution_count": 16,
   "metadata": {},
   "outputs": [],
   "source": [
    "path = './ml100k/test.txt'\n",
    "f = open(path, 'w')\n",
    "\n",
    "for u, i in User_test.items():\n",
    "    f.write(str(u))\n",
    "    for n in i:\n",
    "        f.write(\" \" + str(n[0]))\n",
    "    f.write('\\n')\n",
    "\n",
    "f.close()"
   ]
  },
  {
   "cell_type": "code",
   "execution_count": null,
   "metadata": {},
   "outputs": [],
   "source": []
  }
 ],
 "metadata": {
  "kernelspec": {
   "display_name": "Python 3 (ipykernel)",
   "language": "python",
   "name": "python3"
  },
  "language_info": {
   "codemirror_mode": {
    "name": "ipython",
    "version": 3
   },
   "file_extension": ".py",
   "mimetype": "text/x-python",
   "name": "python",
   "nbconvert_exporter": "python",
   "pygments_lexer": "ipython3",
   "version": "3.11.9"
  }
 },
 "nbformat": 4,
 "nbformat_minor": 4
}
